{
 "cells": [
  {
   "cell_type": "markdown",
   "id": "0c1924e4",
   "metadata": {},
   "source": [
    "Sales Analysis Project"
   ]
  },
  {
   "cell_type": "markdown",
   "id": "4a92ec66",
   "metadata": {},
   "source": [
    "Import necessary libraries\n"
   ]
  },
  {
   "cell_type": "code",
   "execution_count": 1,
   "id": "12403eb9",
   "metadata": {},
   "outputs": [],
   "source": [
    "import pandas as pd"
   ]
  },
  {
   "cell_type": "markdown",
   "id": "a3ae7b24",
   "metadata": {},
   "source": [
    "### Merging 12 months of sales data into a single file"
   ]
  },
  {
   "cell_type": "code",
   "execution_count": 2,
   "id": "97f24dcf",
   "metadata": {},
   "outputs": [
    {
     "data": {
      "text/plain": [
       "['combined_csv.csv',\n",
       " 'Sales_April_2019.csv',\n",
       " 'Sales_August_2019.csv',\n",
       " 'Sales_December_2019.csv',\n",
       " 'Sales_February_2019.csv',\n",
       " 'Sales_January_2019.csv',\n",
       " 'Sales_July_2019.csv',\n",
       " 'Sales_June_2019.csv',\n",
       " 'Sales_March_2019.csv',\n",
       " 'Sales_May_2019.csv',\n",
       " 'Sales_November_2019.csv',\n",
       " 'Sales_October_2019.csv',\n",
       " 'Sales_September_2019.csv']"
      ]
     },
     "execution_count": 2,
     "metadata": {},
     "output_type": "execute_result"
    }
   ],
   "source": [
    "import os\n",
    "os.chdir(\"C:\\\\Users\\\\uyen.nguyen\\\\Downloads\\\\Pandas-Data-Science-Tasks-master\\\\SalesAnalysis\\\\Sales_Data\")\n",
    "os.listdir()"
   ]
  },
  {
   "cell_type": "code",
   "execution_count": 3,
   "id": "022b1ce6",
   "metadata": {},
   "outputs": [],
   "source": [
    "files = [f for f in os.listdir(\"./\")]\n",
    "all_months_data = pd.DataFrame()\n",
    "for file in files:\n",
    "    df = pd.read_csv(\"./\" + file)\n",
    "    all_months_data = pd.concat([all_months_data, df])\n",
    "    \n",
    "all_months_data.to_csv(\"combined_csv.csv\", index = False)"
   ]
  },
  {
   "cell_type": "markdown",
   "id": "05523271",
   "metadata": {},
   "source": [
    "# Read the updated dataframe"
   ]
  },
  {
   "cell_type": "code",
   "execution_count": 4,
   "id": "b3124afd",
   "metadata": {},
   "outputs": [
    {
     "data": {
      "text/html": [
       "<div>\n",
       "<style scoped>\n",
       "    .dataframe tbody tr th:only-of-type {\n",
       "        vertical-align: middle;\n",
       "    }\n",
       "\n",
       "    .dataframe tbody tr th {\n",
       "        vertical-align: top;\n",
       "    }\n",
       "\n",
       "    .dataframe thead th {\n",
       "        text-align: right;\n",
       "    }\n",
       "</style>\n",
       "<table border=\"1\" class=\"dataframe\">\n",
       "  <thead>\n",
       "    <tr style=\"text-align: right;\">\n",
       "      <th></th>\n",
       "      <th>Order ID</th>\n",
       "      <th>Product</th>\n",
       "      <th>Quantity Ordered</th>\n",
       "      <th>Price Each</th>\n",
       "      <th>Order Date</th>\n",
       "      <th>Purchase Address</th>\n",
       "    </tr>\n",
       "  </thead>\n",
       "  <tbody>\n",
       "  </tbody>\n",
       "</table>\n",
       "</div>"
      ],
      "text/plain": [
       "Empty DataFrame\n",
       "Columns: [Order ID, Product, Quantity Ordered, Price Each, Order Date, Purchase Address]\n",
       "Index: []"
      ]
     },
     "execution_count": 4,
     "metadata": {},
     "output_type": "execute_result"
    }
   ],
   "source": [
    "combined_csv = pd.read_csv(\"combined_csv.csv\")\n",
    "combined_csv.head(0)"
   ]
  },
  {
   "cell_type": "markdown",
   "id": "76cfa5b8",
   "metadata": {},
   "source": [
    "# Clean data"
   ]
  },
  {
   "cell_type": "code",
   "execution_count": 5,
   "id": "83751d33",
   "metadata": {},
   "outputs": [],
   "source": [
    "#drop NaN\n",
    "combined_csv = combined_csv.dropna(how=\"all\")\n",
    "\n",
    "# exclude variable \"Or\" found in later manipulations in the Order date collumn\n",
    "combined_csv = combined_csv[combined_csv[\"Order Date\"].str[0:2] != \"Or\"]"
   ]
  },
  {
   "cell_type": "markdown",
   "id": "5d22e5f2",
   "metadata": {},
   "source": [
    "# Parse data to make new columns"
   ]
  },
  {
   "cell_type": "markdown",
   "id": "d94e5959",
   "metadata": {},
   "source": [
    "Practice questions --> data we need:\n",
    "1. What was the best month for sales? How much was earned that month? --> month, sum of sales\n",
    "2. What city sold the most product? --> city, quantity sold\n",
    "3. What time should we display advertisemens to maximize the likelihood of customer’s buying product? --> time, quantity sold\n",
    "4. What products are most often sold together? --> product,\n",
    "5. What product sold the most? Why do you think it sold the most? --> product name, product sold"
   ]
  },
  {
   "cell_type": "code",
   "execution_count": 6,
   "id": "e3fa53cc",
   "metadata": {},
   "outputs": [],
   "source": [
    "#parse and create a column for month data\n",
    "combined_csv[\"Month\"] = combined_csv[\"Order Date\"].str[0:2]\n",
    "combined_csv[\"Month\"].astype('int')\n",
    "combined_csv.head()\n",
    "\n",
    "#convert data type of Quantity Ordered and Price Each column from string to numeric\n",
    "combined_csv[\"Quantity Ordered\"] = pd.to_numeric(combined_csv[\"Quantity Ordered\"])\n",
    "combined_csv[\"Price Each\"] = pd.to_numeric(combined_csv[\"Price Each\"])"
   ]
  },
  {
   "cell_type": "code",
   "execution_count": 7,
   "id": "d66f60ad",
   "metadata": {},
   "outputs": [
    {
     "data": {
      "text/html": [
       "<div>\n",
       "<style scoped>\n",
       "    .dataframe tbody tr th:only-of-type {\n",
       "        vertical-align: middle;\n",
       "    }\n",
       "\n",
       "    .dataframe tbody tr th {\n",
       "        vertical-align: top;\n",
       "    }\n",
       "\n",
       "    .dataframe thead th {\n",
       "        text-align: right;\n",
       "    }\n",
       "</style>\n",
       "<table border=\"1\" class=\"dataframe\">\n",
       "  <thead>\n",
       "    <tr style=\"text-align: right;\">\n",
       "      <th></th>\n",
       "      <th>Order ID</th>\n",
       "      <th>Product</th>\n",
       "      <th>Quantity Ordered</th>\n",
       "      <th>Price Each</th>\n",
       "      <th>Order Date</th>\n",
       "      <th>Purchase Address</th>\n",
       "      <th>Month</th>\n",
       "      <th>City</th>\n",
       "    </tr>\n",
       "  </thead>\n",
       "  <tbody>\n",
       "    <tr>\n",
       "      <th>0</th>\n",
       "      <td>176558</td>\n",
       "      <td>USB-C Charging Cable</td>\n",
       "      <td>2</td>\n",
       "      <td>11.95</td>\n",
       "      <td>04/19/19 08:46</td>\n",
       "      <td>917 1st St, Dallas, TX 75001</td>\n",
       "      <td>04</td>\n",
       "      <td>Dallas TX</td>\n",
       "    </tr>\n",
       "    <tr>\n",
       "      <th>2</th>\n",
       "      <td>176559</td>\n",
       "      <td>Bose SoundSport Headphones</td>\n",
       "      <td>1</td>\n",
       "      <td>99.99</td>\n",
       "      <td>04/07/19 22:30</td>\n",
       "      <td>682 Chestnut St, Boston, MA 02215</td>\n",
       "      <td>04</td>\n",
       "      <td>Boston MA</td>\n",
       "    </tr>\n",
       "    <tr>\n",
       "      <th>3</th>\n",
       "      <td>176560</td>\n",
       "      <td>Google Phone</td>\n",
       "      <td>1</td>\n",
       "      <td>600.00</td>\n",
       "      <td>04/12/19 14:38</td>\n",
       "      <td>669 Spruce St, Los Angeles, CA 90001</td>\n",
       "      <td>04</td>\n",
       "      <td>Los Angeles CA</td>\n",
       "    </tr>\n",
       "    <tr>\n",
       "      <th>4</th>\n",
       "      <td>176560</td>\n",
       "      <td>Wired Headphones</td>\n",
       "      <td>1</td>\n",
       "      <td>11.99</td>\n",
       "      <td>04/12/19 14:38</td>\n",
       "      <td>669 Spruce St, Los Angeles, CA 90001</td>\n",
       "      <td>04</td>\n",
       "      <td>Los Angeles CA</td>\n",
       "    </tr>\n",
       "    <tr>\n",
       "      <th>5</th>\n",
       "      <td>176561</td>\n",
       "      <td>Wired Headphones</td>\n",
       "      <td>1</td>\n",
       "      <td>11.99</td>\n",
       "      <td>04/30/19 09:27</td>\n",
       "      <td>333 8th St, Los Angeles, CA 90001</td>\n",
       "      <td>04</td>\n",
       "      <td>Los Angeles CA</td>\n",
       "    </tr>\n",
       "  </tbody>\n",
       "</table>\n",
       "</div>"
      ],
      "text/plain": [
       "  Order ID                     Product  Quantity Ordered  Price Each  \\\n",
       "0   176558        USB-C Charging Cable                 2       11.95   \n",
       "2   176559  Bose SoundSport Headphones                 1       99.99   \n",
       "3   176560                Google Phone                 1      600.00   \n",
       "4   176560            Wired Headphones                 1       11.99   \n",
       "5   176561            Wired Headphones                 1       11.99   \n",
       "\n",
       "       Order Date                      Purchase Address Month             City  \n",
       "0  04/19/19 08:46          917 1st St, Dallas, TX 75001    04        Dallas TX  \n",
       "2  04/07/19 22:30     682 Chestnut St, Boston, MA 02215    04        Boston MA  \n",
       "3  04/12/19 14:38  669 Spruce St, Los Angeles, CA 90001    04   Los Angeles CA  \n",
       "4  04/12/19 14:38  669 Spruce St, Los Angeles, CA 90001    04   Los Angeles CA  \n",
       "5  04/30/19 09:27     333 8th St, Los Angeles, CA 90001    04   Los Angeles CA  "
      ]
     },
     "execution_count": 7,
     "metadata": {},
     "output_type": "execute_result"
    }
   ],
   "source": [
    "#parse and create a column for city data\n",
    "\n",
    "def get_city(x):\n",
    "    return x.split(',')[1]\n",
    "\n",
    "def get_state(x):\n",
    "    return x.split(',')[2].split(' ')[1] \n",
    "#including state code to avoid cities of the same name from different states to be summed together\n",
    "\n",
    "combined_csv[\"City\"] = combined_csv[\"Purchase Address\"].apply(lambda x: get_city(x) + ' ' + get_state(x))\n",
    "combined_csv.head()"
   ]
  },
  {
   "cell_type": "markdown",
   "id": "9148037e",
   "metadata": {},
   "source": [
    "# Answer Practice Questions"
   ]
  },
  {
   "cell_type": "markdown",
   "id": "86d8a186",
   "metadata": {},
   "source": [
    "#### Question 1: What was the best month for sales? How much was earned that month? Answer: December"
   ]
  },
  {
   "cell_type": "code",
   "execution_count": 8,
   "id": "51e1f407",
   "metadata": {},
   "outputs": [
    {
     "data": {
      "text/html": [
       "<div>\n",
       "<style scoped>\n",
       "    .dataframe tbody tr th:only-of-type {\n",
       "        vertical-align: middle;\n",
       "    }\n",
       "\n",
       "    .dataframe tbody tr th {\n",
       "        vertical-align: top;\n",
       "    }\n",
       "\n",
       "    .dataframe thead th {\n",
       "        text-align: right;\n",
       "    }\n",
       "</style>\n",
       "<table border=\"1\" class=\"dataframe\">\n",
       "  <thead>\n",
       "    <tr style=\"text-align: right;\">\n",
       "      <th></th>\n",
       "      <th>Quantity Ordered</th>\n",
       "      <th>Price Each</th>\n",
       "      <th>Sales</th>\n",
       "    </tr>\n",
       "    <tr>\n",
       "      <th>Month</th>\n",
       "      <th></th>\n",
       "      <th></th>\n",
       "      <th></th>\n",
       "    </tr>\n",
       "  </thead>\n",
       "  <tbody>\n",
       "    <tr>\n",
       "      <th>01</th>\n",
       "      <td>109030</td>\n",
       "      <td>1.811768e+07</td>\n",
       "      <td>1.822257e+07</td>\n",
       "    </tr>\n",
       "    <tr>\n",
       "      <th>02</th>\n",
       "      <td>134490</td>\n",
       "      <td>2.188885e+07</td>\n",
       "      <td>2.202022e+07</td>\n",
       "    </tr>\n",
       "    <tr>\n",
       "      <th>03</th>\n",
       "      <td>170050</td>\n",
       "      <td>2.791208e+07</td>\n",
       "      <td>2.807100e+07</td>\n",
       "    </tr>\n",
       "    <tr>\n",
       "      <th>04</th>\n",
       "      <td>205580</td>\n",
       "      <td>3.367671e+07</td>\n",
       "      <td>3.390670e+07</td>\n",
       "    </tr>\n",
       "    <tr>\n",
       "      <th>05</th>\n",
       "      <td>186670</td>\n",
       "      <td>3.135125e+07</td>\n",
       "      <td>3.152607e+07</td>\n",
       "    </tr>\n",
       "    <tr>\n",
       "      <th>06</th>\n",
       "      <td>152530</td>\n",
       "      <td>2.562026e+07</td>\n",
       "      <td>2.577802e+07</td>\n",
       "    </tr>\n",
       "    <tr>\n",
       "      <th>07</th>\n",
       "      <td>160720</td>\n",
       "      <td>2.632540e+07</td>\n",
       "      <td>2.647776e+07</td>\n",
       "    </tr>\n",
       "    <tr>\n",
       "      <th>08</th>\n",
       "      <td>134480</td>\n",
       "      <td>2.230345e+07</td>\n",
       "      <td>2.244468e+07</td>\n",
       "    </tr>\n",
       "    <tr>\n",
       "      <th>09</th>\n",
       "      <td>131090</td>\n",
       "      <td>2.084992e+07</td>\n",
       "      <td>2.097560e+07</td>\n",
       "    </tr>\n",
       "    <tr>\n",
       "      <th>10</th>\n",
       "      <td>227030</td>\n",
       "      <td>3.715555e+07</td>\n",
       "      <td>3.736727e+07</td>\n",
       "    </tr>\n",
       "    <tr>\n",
       "      <th>11</th>\n",
       "      <td>197980</td>\n",
       "      <td>3.180601e+07</td>\n",
       "      <td>3.199603e+07</td>\n",
       "    </tr>\n",
       "    <tr>\n",
       "      <th>12</th>\n",
       "      <td>281140</td>\n",
       "      <td>4.588415e+07</td>\n",
       "      <td>4.613443e+07</td>\n",
       "    </tr>\n",
       "  </tbody>\n",
       "</table>\n",
       "</div>"
      ],
      "text/plain": [
       "       Quantity Ordered    Price Each         Sales\n",
       "Month                                              \n",
       "01               109030  1.811768e+07  1.822257e+07\n",
       "02               134490  2.188885e+07  2.202022e+07\n",
       "03               170050  2.791208e+07  2.807100e+07\n",
       "04               205580  3.367671e+07  3.390670e+07\n",
       "05               186670  3.135125e+07  3.152607e+07\n",
       "06               152530  2.562026e+07  2.577802e+07\n",
       "07               160720  2.632540e+07  2.647776e+07\n",
       "08               134480  2.230345e+07  2.244468e+07\n",
       "09               131090  2.084992e+07  2.097560e+07\n",
       "10               227030  3.715555e+07  3.736727e+07\n",
       "11               197980  3.180601e+07  3.199603e+07\n",
       "12               281140  4.588415e+07  4.613443e+07"
      ]
     },
     "execution_count": 8,
     "metadata": {},
     "output_type": "execute_result"
    }
   ],
   "source": [
    "#calculate sum of sales for each month\n",
    "combined_csv[\"Sales\"] = combined_csv[\"Quantity Ordered\"] * combined_csv[\"Price Each\"]\n",
    "\n",
    "#identify best month for sales\n",
    "best_sales_month = combined_csv.groupby(\"Month\").sum()\n",
    "best_sales_month"
   ]
  },
  {
   "cell_type": "code",
   "execution_count": 9,
   "id": "af809504",
   "metadata": {},
   "outputs": [
    {
     "data": {
      "image/png": "[encoded data removed]",
      "text/plain": [
       "<Figure size 432x288 with 1 Axes>"
      ]
     },
     "metadata": {
      "needs_background": "light"
     },
     "output_type": "display_data"
    }
   ],
   "source": [
    "#create and customize plot to visualize data\n",
    "import matplotlib.pyplot as plt\n",
    "\n",
    "months = range(1,13)\n",
    "\n",
    "plt.bar(months, best_sales_month[\"Sales\"])\n",
    "plt.xticks(months)\n",
    "plt.ylabel(\"Sales volume\")\n",
    "plt.xlabel(\"Month\")\n",
    "plt.gcf().axes[0].yaxis.get_major_formatter().set_scientific(False)\n",
    "plt.show()\n",
    "\n",
    "#The month with the highest sales volume is December (12)"
   ]
  },
  {
   "cell_type": "markdown",
   "id": "686a8cd9",
   "metadata": {},
   "source": [
    "#### Question 2: What city sold the most product? Answer:"
   ]
  },
  {
   "cell_type": "code",
   "execution_count": 10,
   "id": "60b585cc",
   "metadata": {},
   "outputs": [],
   "source": [
    "#group data by cities with sum of product ordered\n",
    "most_product_by_city = combined_csv.groupby(\"City\").sum()\n",
    "\n"
   ]
  },
  {
   "cell_type": "code",
   "execution_count": 11,
   "id": "b1a5dd6a",
   "metadata": {},
   "outputs": [
    {
     "data": {
      "image/png": "[encoded data removed]",
      "text/plain": [
       "<Figure size 432x288 with 1 Axes>"
      ]
     },
     "metadata": {
      "needs_background": "light"
     },
     "output_type": "display_data"
    }
   ],
   "source": [
    "cities = [city for city, df in combined_csv.groupby('City')]\n",
    "\n",
    "plt.bar(cities, most_product_by_city[\"Quantity Ordered\"])\n",
    "plt.xticks(cities, rotation = 'vertical', size = 8)\n",
    "plt.ylabel(\"Quantity Ordered\")\n",
    "plt.xlabel(\"City name\")\n",
    "plt.show()\n",
    "\n",
    "#City with the highest sales in product count is San Francisco, CA"
   ]
  },
  {
   "cell_type": "markdown",
   "id": "1caffaa3",
   "metadata": {},
   "source": [
    "#### Question 3: What time should we display advertisemens to maximize the likelihood of customer’s buying product? Answer: 11 AM (11) or 7 PM (19)"
   ]
  },
  {
   "cell_type": "code",
   "execution_count": 12,
   "id": "061a50e9",
   "metadata": {},
   "outputs": [],
   "source": [
    "combined_csv.head()\n",
    "#parse hour data\n",
    "combined_csv[\"Order Date\"] = pd.to_datetime(combined_csv[\"Order Date\"])\n",
    "combined_csv[\"Hour\"] = combined_csv[\"Order Date\"].dt.hour\n",
    "combined_csv[\"Minute\"] = combined_csv[\"Order Date\"].dt.minute\n",
    "combined_csv[\"Count\"] = 1"
   ]
  },
  {
   "cell_type": "code",
   "execution_count": 13,
   "id": "2986f611",
   "metadata": {},
   "outputs": [
    {
     "data": {
      "image/png": "[encoded data removed]",
      "text/plain": [
       "<Figure size 432x288 with 1 Axes>"
      ]
     },
     "metadata": {
      "needs_background": "light"
     },
     "output_type": "display_data"
    }
   ],
   "source": [
    "#visualize hour data to show peak order time\n",
    "\n",
    "hours = [hour for hour, df in combined_csv.groupby('Hour')]\n",
    "\n",
    "#unsimilar to summing the data by category, we are counting the occurance of each data (time of purchase)\n",
    "plt.plot(hours, combined_csv.groupby(['Hour']).count())\n",
    "\n",
    "plt.xticks(hours)\n",
    "plt.ylabel(\"Number of Orders\")\n",
    "plt.xlabel(\"Hour\")\n",
    "plt.grid()\n",
    "plt.show()\n",
    "\n",
    "#Best time to display advertisement is right before the peak times, which are 11 AM (11) or 7 PM (19)"
   ]
  },
  {
   "cell_type": "markdown",
   "id": "e0bb1b4f",
   "metadata": {},
   "source": [
    "#### Question 4: What products are most often sold together? Answer:"
   ]
  },
  {
   "cell_type": "code",
   "execution_count": 14,
   "id": "86f03b9d",
   "metadata": {},
   "outputs": [
    {
     "data": {
      "text/html": [
       "<div>\n",
       "<style scoped>\n",
       "    .dataframe tbody tr th:only-of-type {\n",
       "        vertical-align: middle;\n",
       "    }\n",
       "\n",
       "    .dataframe tbody tr th {\n",
       "        vertical-align: top;\n",
       "    }\n",
       "\n",
       "    .dataframe thead th {\n",
       "        text-align: right;\n",
       "    }\n",
       "</style>\n",
       "<table border=\"1\" class=\"dataframe\">\n",
       "  <thead>\n",
       "    <tr style=\"text-align: right;\">\n",
       "      <th></th>\n",
       "      <th>Order ID</th>\n",
       "      <th>Grouped</th>\n",
       "    </tr>\n",
       "  </thead>\n",
       "  <tbody>\n",
       "    <tr>\n",
       "      <th>0</th>\n",
       "      <td>176558</td>\n",
       "      <td>USB-C Charging Cable,USB-C Charging Cable,USB-...</td>\n",
       "    </tr>\n",
       "    <tr>\n",
       "      <th>2</th>\n",
       "      <td>176559</td>\n",
       "      <td>Bose SoundSport Headphones,Bose SoundSport Hea...</td>\n",
       "    </tr>\n",
       "    <tr>\n",
       "      <th>3</th>\n",
       "      <td>176560</td>\n",
       "      <td>Google Phone,Wired Headphones,Google Phone,Wir...</td>\n",
       "    </tr>\n",
       "    <tr>\n",
       "      <th>5</th>\n",
       "      <td>176561</td>\n",
       "      <td>Wired Headphones,Wired Headphones,Wired Headph...</td>\n",
       "    </tr>\n",
       "    <tr>\n",
       "      <th>6</th>\n",
       "      <td>176562</td>\n",
       "      <td>USB-C Charging Cable,USB-C Charging Cable,USB-...</td>\n",
       "    </tr>\n",
       "  </tbody>\n",
       "</table>\n",
       "</div>"
      ],
      "text/plain": [
       "  Order ID                                            Grouped\n",
       "0   176558  USB-C Charging Cable,USB-C Charging Cable,USB-...\n",
       "2   176559  Bose SoundSport Headphones,Bose SoundSport Hea...\n",
       "3   176560  Google Phone,Wired Headphones,Google Phone,Wir...\n",
       "5   176561  Wired Headphones,Wired Headphones,Wired Headph...\n",
       "6   176562  USB-C Charging Cable,USB-C Charging Cable,USB-..."
      ]
     },
     "execution_count": 14,
     "metadata": {},
     "output_type": "execute_result"
    }
   ],
   "source": [
    "#identify duplicate date\n",
    "df = combined_csv[combined_csv['Order ID'].duplicated(keep=False)]\n",
    "\n",
    "#group Product names with the same order ID in the new data frame\n",
    "df['Grouped'] = df.groupby('Order ID')['Product'].transform(lambda x: ',' .join(x))\n",
    "df = df[['Order ID','Grouped']].drop_duplicates()\n",
    "\n",
    "df.head(5)"
   ]
  },
  {
   "cell_type": "code",
   "execution_count": 16,
   "id": "7cfb6833",
   "metadata": {},
   "outputs": [
    {
     "name": "stdout",
     "output_type": "stream",
     "text": [
      "('USB-C Charging Cable', 'USB-C Charging Cable') 990435\n",
      "('Lightning Charging Cable', 'Lightning Charging Cable') 980010\n",
      "('AAA Batteries (4-pack)', 'AAA Batteries (4-pack)') 933645\n",
      "('AA Batteries (4-pack)', 'AA Batteries (4-pack)') 929465\n",
      "('Wired Headphones', 'Wired Headphones') 853190\n",
      "('Apple Airpods Headphones', 'Apple Airpods Headphones') 702105\n",
      "('Bose SoundSport Headphones', 'Bose SoundSport Headphones') 602325\n",
      "('27in FHD Monitor', '27in FHD Monitor') 338715\n",
      "('iPhone', 'iPhone') 308090\n",
      "('27in 4K Gaming Monitor', '27in 4K Gaming Monitor') 280850\n"
     ]
    }
   ],
   "source": [
    "#Reference: https://stackoverflow.com/questions/52195887/counting-unique-pairs-of-numbers-into-a-python-dictionary\n",
    "\n",
    "#identify common combinations of data\n",
    "from itertools import combinations\n",
    "from collections import Counter\n",
    "\n",
    "count = Counter()\n",
    "\n",
    "for row in df['Grouped']:\n",
    "    row_sublist = row.split(',')\n",
    "    count.update(Counter(combinations(row_sublist, 2)))\n",
    "\n",
    "for key, value in count.most_common(10):\n",
    "    print(key, value)"
   ]
  },
  {
   "cell_type": "markdown",
   "id": "f0a5b62f",
   "metadata": {},
   "source": [
    "#### Question 5: What product sold the most? Why do you think it sold the most? Answer: batteries, cables, and headphones are the most sold product categories (batteries on top) because they are cheaper than other products."
   ]
  },
  {
   "cell_type": "code",
   "execution_count": 22,
   "id": "8fba99bd",
   "metadata": {},
   "outputs": [
    {
     "data": {
      "image/png": "[encoded data removed]",
      "text/plain": [
       "<Figure size 432x288 with 1 Axes>"
      ]
     },
     "metadata": {
      "needs_background": "light"
     },
     "output_type": "display_data"
    }
   ],
   "source": [
    "product_group = combined_csv.groupby('Product')\n",
    "quantity_ordered = product_group.sum()['Quantity Ordered']\n",
    "\n",
    "products = [product for product, df in combined_csv.groupby('Product')]\n",
    "\n",
    "keys = [pair for pair, df in product_group]\n",
    "plt.bar(products, quantity_ordered)\n",
    "plt.xticks(keys, rotation='vertical',size=8)\n",
    "plt.show()"
   ]
  },
  {
   "cell_type": "code",
   "execution_count": 23,
   "id": "1c99fabe",
   "metadata": {},
   "outputs": [
    {
     "name": "stderr",
     "output_type": "stream",
     "text": [
      "<ipython-input-23-ad90a8c60804>:14: UserWarning: FixedFormatter should only be used together with FixedLocator\n",
      "  ax1.set_xticklabels(keys, rotation='vertical', size=8)\n",
      "<ipython-input-23-ad90a8c60804>:16: UserWarning: Matplotlib is currently using module://ipykernel.pylab.backend_inline, which is a non-GUI backend, so cannot show the figure.\n",
      "  fig.show()\n"
     ]
    },
    {
     "data": {
      "image/png": "[encoded data removed]",
      "text/plain": [
       "<Figure size 432x288 with 2 Axes>"
      ]
     },
     "metadata": {
      "needs_background": "light"
     },
     "output_type": "display_data"
    }
   ],
   "source": [
    "# Referenced: https://stackoverflow.com/questions/14762181/adding-a-y-axis-label-to-secondary-y-axis-in-matplotlib\n",
    "\n",
    "prices = combined_csv.groupby('Product').mean()['Price Each']\n",
    "\n",
    "fig, ax1 = plt.subplots()\n",
    "\n",
    "ax2 = ax1.twinx()\n",
    "ax1.bar(keys, quantity_ordered, color='g')\n",
    "ax2.plot(keys, prices, color='b')\n",
    "\n",
    "ax1.set_xlabel('Product Name')\n",
    "ax1.set_ylabel('Quantity Ordered', color='g')\n",
    "ax2.set_ylabel('Price ($)', color='b')\n",
    "ax1.set_xticklabels(keys, rotation='vertical', size=8)\n",
    "\n",
    "fig.show()\n",
    "\n",
    "#The price for battery, cable, and headphones products are the Lowest, making them the highest quantity sold categories. "
   ]
  },
  {
   "cell_type": "code",
   "execution_count": null,
   "id": "ba3540b5",
   "metadata": {},
   "outputs": [],
   "source": []
  }
 ],
 "metadata": {
  "kernelspec": {
   "display_name": "Python 3",
   "language": "python",
   "name": "python3"
  },
  "language_info": {
   "codemirror_mode": {
    "name": "ipython",
    "version": 3
   },
   "file_extension": ".py",
   "mimetype": "text/x-python",
   "name": "python",
   "nbconvert_exporter": "python",
   "pygments_lexer": "ipython3",
   "version": "3.8.8"
  }
 },
 "nbformat": 4,
 "nbformat_minor": 5
}
